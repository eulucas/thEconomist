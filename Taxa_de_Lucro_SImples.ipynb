{
  "nbformat": 4,
  "nbformat_minor": 0,
  "metadata": {
    "colab": {
      "name": "Taxa de Lucro SImples.ipynb",
      "provenance": [],
      "collapsed_sections": [],
      "mount_file_id": "1lc49f-1ffbvm4zkbqnfoIE-pKaGeXJgw",
      "authorship_tag": "ABX9TyOxmxxtuelMujQoA1qtqEXe",
      "include_colab_link": true
    },
    "kernelspec": {
      "name": "python3",
      "display_name": "Python 3"
    },
    "language_info": {
      "name": "python"
    }
  },
  "cells": [
    {
      "cell_type": "markdown",
      "metadata": {
        "id": "view-in-github",
        "colab_type": "text"
      },
      "source": [
        "<a href=\"https://colab.research.google.com/github/eulucas/thEconomist/blob/main/Taxa_de_Lucro_SImples.ipynb\" target=\"_parent\"><img src=\"https://colab.research.google.com/assets/colab-badge.svg\" alt=\"Open In Colab\"/></a>"
      ]
    },
    {
      "cell_type": "markdown",
      "metadata": {
        "id": "oK593Icu6jqe"
      },
      "source": [
        "Importando Bibliotecas"
      ]
    },
    {
      "cell_type": "code",
      "metadata": {
        "id": "Pme2TxDr6jd_"
      },
      "source": [
        "import pandas as pd\n",
        "import numpy as np\n",
        "import plotly.express as px # -> Gerar Gráficos dinâmicos"
      ],
      "execution_count": 2,
      "outputs": []
    },
    {
      "cell_type": "markdown",
      "metadata": {
        "id": "-yePGQkv8V0j"
      },
      "source": [
        "Importando CSV do thEconomist"
      ]
    },
    {
      "cell_type": "code",
      "metadata": {
        "id": "d1yr7f-P744a"
      },
      "source": [
        "dataset = pd.read_csv('acoes.csv')"
      ],
      "execution_count": 3,
      "outputs": []
    },
    {
      "cell_type": "markdown",
      "metadata": {
        "id": "LJY7OC5C8hO6"
      },
      "source": [
        "Verificar número de registros .shape"
      ]
    },
    {
      "cell_type": "code",
      "metadata": {
        "colab": {
          "base_uri": "https://localhost:8080/"
        },
        "id": "kbD-jQ3i8lkg",
        "outputId": "1f98efeb-b870-42a9-c64b-1c606a0ed931"
      },
      "source": [
        "dataset.shape"
      ],
      "execution_count": 5,
      "outputs": [
        {
          "output_type": "execute_result",
          "data": {
            "text/plain": [
              "(1665, 12)"
            ]
          },
          "metadata": {},
          "execution_count": 5
        }
      ]
    },
    {
      "cell_type": "markdown",
      "metadata": {
        "id": "mu8MX7Ux80hz"
      },
      "source": [
        "Abrir registros"
      ]
    },
    {
      "cell_type": "code",
      "metadata": {
        "colab": {
          "base_uri": "https://localhost:8080/",
          "height": 419
        },
        "id": "G8qy9ReW83sT",
        "outputId": "16d5f820-4869-467b-d3f3-e128b22a8012"
      },
      "source": [
        "dataset"
      ],
      "execution_count": 6,
      "outputs": [
        {
          "output_type": "execute_result",
          "data": {
            "text/html": [
              "<div>\n",
              "<style scoped>\n",
              "    .dataframe tbody tr th:only-of-type {\n",
              "        vertical-align: middle;\n",
              "    }\n",
              "\n",
              "    .dataframe tbody tr th {\n",
              "        vertical-align: top;\n",
              "    }\n",
              "\n",
              "    .dataframe thead th {\n",
              "        text-align: right;\n",
              "    }\n",
              "</style>\n",
              "<table border=\"1\" class=\"dataframe\">\n",
              "  <thead>\n",
              "    <tr style=\"text-align: right;\">\n",
              "      <th></th>\n",
              "      <th>Date</th>\n",
              "      <th>AMBEV</th>\n",
              "      <th>B3</th>\n",
              "      <th>BB</th>\n",
              "      <th>COSAN</th>\n",
              "      <th>ENGIE</th>\n",
              "      <th>ITAUSA</th>\n",
              "      <th>RENNER</th>\n",
              "      <th>SLC</th>\n",
              "      <th>SUL</th>\n",
              "      <th>OI</th>\n",
              "      <th>MARISA</th>\n",
              "    </tr>\n",
              "  </thead>\n",
              "  <tbody>\n",
              "    <tr>\n",
              "      <th>0</th>\n",
              "      <td>2015-01-02</td>\n",
              "      <td>16.020000</td>\n",
              "      <td>3.170000</td>\n",
              "      <td>22.650000</td>\n",
              "      <td>6.950000</td>\n",
              "      <td>26.087999</td>\n",
              "      <td>6.828494</td>\n",
              "      <td>12.545454</td>\n",
              "      <td>6.800000</td>\n",
              "      <td>9.729705</td>\n",
              "      <td>6.753943</td>\n",
              "      <td>13.190909</td>\n",
              "    </tr>\n",
              "    <tr>\n",
              "      <th>1</th>\n",
              "      <td>2015-01-05</td>\n",
              "      <td>15.730000</td>\n",
              "      <td>3.083333</td>\n",
              "      <td>22.180000</td>\n",
              "      <td>6.537500</td>\n",
              "      <td>26.120001</td>\n",
              "      <td>6.850834</td>\n",
              "      <td>12.196694</td>\n",
              "      <td>6.800000</td>\n",
              "      <td>9.529670</td>\n",
              "      <td>6.268853</td>\n",
              "      <td>13.090909</td>\n",
              "    </tr>\n",
              "    <tr>\n",
              "      <th>2</th>\n",
              "      <td>2015-01-06</td>\n",
              "      <td>16.330000</td>\n",
              "      <td>3.113333</td>\n",
              "      <td>22.490000</td>\n",
              "      <td>6.280000</td>\n",
              "      <td>26.648001</td>\n",
              "      <td>6.902959</td>\n",
              "      <td>12.337190</td>\n",
              "      <td>6.880000</td>\n",
              "      <td>9.297629</td>\n",
              "      <td>5.373302</td>\n",
              "      <td>12.281818</td>\n",
              "    </tr>\n",
              "    <tr>\n",
              "      <th>3</th>\n",
              "      <td>2015-01-07</td>\n",
              "      <td>16.559999</td>\n",
              "      <td>3.236666</td>\n",
              "      <td>23.480000</td>\n",
              "      <td>6.372500</td>\n",
              "      <td>27.320000</td>\n",
              "      <td>7.163589</td>\n",
              "      <td>12.547107</td>\n",
              "      <td>7.100000</td>\n",
              "      <td>9.273625</td>\n",
              "      <td>5.283747</td>\n",
              "      <td>12.509090</td>\n",
              "    </tr>\n",
              "    <tr>\n",
              "      <th>4</th>\n",
              "      <td>2015-01-08</td>\n",
              "      <td>16.540001</td>\n",
              "      <td>3.193333</td>\n",
              "      <td>23.559999</td>\n",
              "      <td>6.450000</td>\n",
              "      <td>27.600000</td>\n",
              "      <td>7.238055</td>\n",
              "      <td>12.561983</td>\n",
              "      <td>7.120000</td>\n",
              "      <td>9.137601</td>\n",
              "      <td>5.335988</td>\n",
              "      <td>12.372727</td>\n",
              "    </tr>\n",
              "    <tr>\n",
              "      <th>...</th>\n",
              "      <td>...</td>\n",
              "      <td>...</td>\n",
              "      <td>...</td>\n",
              "      <td>...</td>\n",
              "      <td>...</td>\n",
              "      <td>...</td>\n",
              "      <td>...</td>\n",
              "      <td>...</td>\n",
              "      <td>...</td>\n",
              "      <td>...</td>\n",
              "      <td>...</td>\n",
              "      <td>...</td>\n",
              "    </tr>\n",
              "    <tr>\n",
              "      <th>1660</th>\n",
              "      <td>2021-09-15</td>\n",
              "      <td>16.020000</td>\n",
              "      <td>14.050000</td>\n",
              "      <td>29.000000</td>\n",
              "      <td>23.549999</td>\n",
              "      <td>38.860001</td>\n",
              "      <td>11.060000</td>\n",
              "      <td>36.790001</td>\n",
              "      <td>44.119999</td>\n",
              "      <td>28.459999</td>\n",
              "      <td>1.010000</td>\n",
              "      <td>5.990000</td>\n",
              "    </tr>\n",
              "    <tr>\n",
              "      <th>1661</th>\n",
              "      <td>2021-09-16</td>\n",
              "      <td>16.129999</td>\n",
              "      <td>14.120000</td>\n",
              "      <td>29.469999</td>\n",
              "      <td>23.650000</td>\n",
              "      <td>38.900002</td>\n",
              "      <td>11.120000</td>\n",
              "      <td>37.250000</td>\n",
              "      <td>44.340000</td>\n",
              "      <td>28.120001</td>\n",
              "      <td>0.980000</td>\n",
              "      <td>5.790000</td>\n",
              "    </tr>\n",
              "    <tr>\n",
              "      <th>1662</th>\n",
              "      <td>2021-09-17</td>\n",
              "      <td>15.740000</td>\n",
              "      <td>14.180000</td>\n",
              "      <td>28.940001</td>\n",
              "      <td>23.389999</td>\n",
              "      <td>38.820000</td>\n",
              "      <td>10.880000</td>\n",
              "      <td>36.549999</td>\n",
              "      <td>43.889999</td>\n",
              "      <td>28.129999</td>\n",
              "      <td>0.960000</td>\n",
              "      <td>5.750000</td>\n",
              "    </tr>\n",
              "    <tr>\n",
              "      <th>1663</th>\n",
              "      <td>2021-09-20</td>\n",
              "      <td>15.610000</td>\n",
              "      <td>13.680000</td>\n",
              "      <td>28.000000</td>\n",
              "      <td>23.020000</td>\n",
              "      <td>38.619999</td>\n",
              "      <td>10.690000</td>\n",
              "      <td>35.709999</td>\n",
              "      <td>42.049999</td>\n",
              "      <td>27.510000</td>\n",
              "      <td>0.970000</td>\n",
              "      <td>5.300000</td>\n",
              "    </tr>\n",
              "    <tr>\n",
              "      <th>1664</th>\n",
              "      <td>2021-09-21</td>\n",
              "      <td>15.660000</td>\n",
              "      <td>13.550000</td>\n",
              "      <td>28.709999</td>\n",
              "      <td>23.299999</td>\n",
              "      <td>38.939999</td>\n",
              "      <td>10.640000</td>\n",
              "      <td>36.549999</td>\n",
              "      <td>41.900002</td>\n",
              "      <td>27.030001</td>\n",
              "      <td>0.950000</td>\n",
              "      <td>5.590000</td>\n",
              "    </tr>\n",
              "  </tbody>\n",
              "</table>\n",
              "<p>1665 rows × 12 columns</p>\n",
              "</div>"
            ],
            "text/plain": [
              "            Date      AMBEV         B3  ...        SUL        OI     MARISA\n",
              "0     2015-01-02  16.020000   3.170000  ...   9.729705  6.753943  13.190909\n",
              "1     2015-01-05  15.730000   3.083333  ...   9.529670  6.268853  13.090909\n",
              "2     2015-01-06  16.330000   3.113333  ...   9.297629  5.373302  12.281818\n",
              "3     2015-01-07  16.559999   3.236666  ...   9.273625  5.283747  12.509090\n",
              "4     2015-01-08  16.540001   3.193333  ...   9.137601  5.335988  12.372727\n",
              "...          ...        ...        ...  ...        ...       ...        ...\n",
              "1660  2021-09-15  16.020000  14.050000  ...  28.459999  1.010000   5.990000\n",
              "1661  2021-09-16  16.129999  14.120000  ...  28.120001  0.980000   5.790000\n",
              "1662  2021-09-17  15.740000  14.180000  ...  28.129999  0.960000   5.750000\n",
              "1663  2021-09-20  15.610000  13.680000  ...  27.510000  0.970000   5.300000\n",
              "1664  2021-09-21  15.660000  13.550000  ...  27.030001  0.950000   5.590000\n",
              "\n",
              "[1665 rows x 12 columns]"
            ]
          },
          "metadata": {},
          "execution_count": 6
        }
      ]
    },
    {
      "cell_type": "markdown",
      "metadata": {
        "id": "Zzd8xBaz_OrY"
      },
      "source": [
        "Taxa de Lucro - **VALOR DE 1 UMA AÇÃO**"
      ]
    },
    {
      "cell_type": "markdown",
      "metadata": {
        "id": "dz6AQAt8A4PV"
      },
      "source": [
        "Usarei o len(dataset), pois caso use outro arquivo ele calcula automaticamente a quantidade de linhas. "
      ]
    },
    {
      "cell_type": "code",
      "metadata": {
        "colab": {
          "base_uri": "https://localhost:8080/"
        },
        "id": "vGL3aZmeBO_3",
        "outputId": "1acb812a-660b-45e5-be57-e0f39a9ac982"
      },
      "source": [
        "len(dataset)"
      ],
      "execution_count": 12,
      "outputs": [
        {
          "output_type": "execute_result",
          "data": {
            "text/plain": [
              "1665"
            ]
          },
          "metadata": {},
          "execution_count": 12
        }
      ]
    },
    {
      "cell_type": "code",
      "metadata": {
        "colab": {
          "base_uri": "https://localhost:8080/"
        },
        "id": "It4Gq1Nr_gdJ",
        "outputId": "985d0e8e-54a7-4ed7-f621-921b9242e939"
      },
      "source": [
        "dataset['AMBEV'][0], dataset['AMBEV'][len(dataset) - 1]"
      ],
      "execution_count": 13,
      "outputs": [
        {
          "output_type": "execute_result",
          "data": {
            "text/plain": [
              "(16.020000457763672, 15.65999984741211)"
            ]
          },
          "metadata": {},
          "execution_count": 13
        }
      ]
    },
    {
      "cell_type": "markdown",
      "metadata": {
        "id": "enk63efGLOfd"
      },
      "source": [
        "Datas Automatizadas"
      ]
    },
    {
      "cell_type": "code",
      "metadata": {
        "id": "RLD93mU2LTtl"
      },
      "source": [
        "data_inicial = dataset['Date'][0]\n",
        "data_final = len(dataset['Date']) - 1\n",
        "data_final = dataset['Date'][data_final]"
      ],
      "execution_count": 65,
      "outputs": []
    },
    {
      "cell_type": "markdown",
      "metadata": {
        "id": "hJ7T3nasO5dl"
      },
      "source": [
        "Para Calcular a Taxa de Retorno iremos fazer PREÇO FINAL(PREÇO QUE VENDEREMOS A AÇÃO) - PREÇO INICIAL(PREÇO QUE COMPRAMOS A AÇÃO) / PREÇO INICIAL(PREÇO QUE COMPRAMOS A AÇÃO) * 100"
      ]
    },
    {
      "cell_type": "code",
      "metadata": {
        "colab": {
          "base_uri": "https://localhost:8080/"
        },
        "id": "gqq0AD2aCB2X",
        "outputId": "9d7fd977-d022-4aa7-81ff-28ed4f7bb29f"
      },
      "source": [
        "rs_ambev = ((dataset['AMBEV'][len(dataset) - 1] - dataset['AMBEV'][0]) / dataset['AMBEV'][0]) * 100\n",
        "print('A Taxa de Retorno desta Ação em um período de {} a {} é de: {:.2f}'.format(data_inicial, data_final, rs_ambev))"
      ],
      "execution_count": 66,
      "outputs": [
        {
          "output_type": "stream",
          "name": "stdout",
          "text": [
            "A Taxa de Retorno desta Ação em um período de 2015-01-02 a 2021-09-21 é de: -2.25\n"
          ]
        }
      ]
    },
    {
      "cell_type": "code",
      "metadata": {
        "colab": {
          "base_uri": "https://localhost:8080/"
        },
        "id": "rt3jhhiUGnQc",
        "outputId": "d0a11bf7-3243-40f2-c247-246642ca71d9"
      },
      "source": [
        "rs_b3 = ((dataset['B3'][len(dataset) - 1] - dataset['B3'][0]) / dataset['B3'][0]) * 100\n",
        "print('A Taxa de Retorno desta Ação em um período de {} a {} é de: {:.2f}'.format(data_inicial, data_final, rs_b3))"
      ],
      "execution_count": 67,
      "outputs": [
        {
          "output_type": "stream",
          "name": "stdout",
          "text": [
            "A Taxa de Retorno desta Ação em um período de 2015-01-02 a 2021-09-21 é de: 327.44\n"
          ]
        }
      ]
    },
    {
      "cell_type": "code",
      "metadata": {
        "colab": {
          "base_uri": "https://localhost:8080/"
        },
        "id": "0V5c6e4-GnMJ",
        "outputId": "5c840b5d-af80-4686-aff4-3eb7ea181963"
      },
      "source": [
        "rs_bb = ((dataset['BB'][len(dataset) - 1] - dataset['BB'][0]) / dataset['BB'][0]) * 100\n",
        "print('A Taxa de Retorno desta Ação em um período de {} a {} é de: {:.2f}'.format(data_inicial, data_final, rs_bb))"
      ],
      "execution_count": 68,
      "outputs": [
        {
          "output_type": "stream",
          "name": "stdout",
          "text": [
            "A Taxa de Retorno desta Ação em um período de 2015-01-02 a 2021-09-21 é de: 26.75\n"
          ]
        }
      ]
    },
    {
      "cell_type": "code",
      "metadata": {
        "colab": {
          "base_uri": "https://localhost:8080/"
        },
        "id": "zYqFbpiNGnIh",
        "outputId": "b7e52afb-3a61-47a2-be85-0411c210beff"
      },
      "source": [
        "rs_cosan = ((dataset['COSAN'][len(dataset) - 1] - dataset['COSAN'][0]) / dataset['COSAN'][0]) * 100\n",
        "print('A Taxa de Retorno desta Ação em um período de {} a {} é de: {:.2f}'.format(data_inicial, data_final, rs_cosan))"
      ],
      "execution_count": 69,
      "outputs": [
        {
          "output_type": "stream",
          "name": "stdout",
          "text": [
            "A Taxa de Retorno desta Ação em um período de 2015-01-02 a 2021-09-21 é de: 235.25\n"
          ]
        }
      ]
    },
    {
      "cell_type": "code",
      "metadata": {
        "colab": {
          "base_uri": "https://localhost:8080/"
        },
        "id": "VzxNyeUNGnEK",
        "outputId": "16795ca4-51aa-46df-a177-5ec92abb4d83"
      },
      "source": [
        "rs_engie = ((dataset['ENGIE'][len(dataset) - 1] - dataset['ENGIE'][0]) / dataset['ENGIE'][0]) * 100\n",
        "print('A Taxa de Retorno desta Ação em um período de {} a {} é de: {:.2f}'.format(data_inicial, data_final, rs_engie))"
      ],
      "execution_count": 70,
      "outputs": [
        {
          "output_type": "stream",
          "name": "stdout",
          "text": [
            "A Taxa de Retorno desta Ação em um período de 2015-01-02 a 2021-09-21 é de: 49.26\n"
          ]
        }
      ]
    },
    {
      "cell_type": "code",
      "metadata": {
        "colab": {
          "base_uri": "https://localhost:8080/"
        },
        "id": "lMirGwIBGm9x",
        "outputId": "a86cdf03-2b1e-4d53-e2d5-47533be28bdd"
      },
      "source": [
        "rs_itausa = ((dataset['ITAUSA'][len(dataset) - 1] - dataset['ITAUSA'][0]) / dataset['ITAUSA'][0]) * 100\n",
        "print('A Taxa de Retorno desta Ação em um período de {} a {} é de: {:.2f}'.format(data_inicial, data_final, rs_itausa))"
      ],
      "execution_count": 71,
      "outputs": [
        {
          "output_type": "stream",
          "name": "stdout",
          "text": [
            "A Taxa de Retorno desta Ação em um período de 2015-01-02 a 2021-09-21 é de: 55.82\n"
          ]
        }
      ]
    },
    {
      "cell_type": "code",
      "metadata": {
        "colab": {
          "base_uri": "https://localhost:8080/"
        },
        "id": "NHzaKUkkGm1p",
        "outputId": "e72c3b08-8202-419b-94fd-b8e440e75e61"
      },
      "source": [
        "rs_renner = ((dataset['RENNER'][len(dataset) - 1] - dataset['RENNER'][0]) / dataset['RENNER'][0]) * 100\n",
        "print('A Taxa de Retorno desta Ação em um período de {} a {} é de: {:.2f}'.format(data_inicial, data_final, rs_renner))"
      ],
      "execution_count": 72,
      "outputs": [
        {
          "output_type": "stream",
          "name": "stdout",
          "text": [
            "A Taxa de Retorno desta Ação em um período de 2015-01-02 a 2021-09-21 é de: 191.34\n"
          ]
        }
      ]
    },
    {
      "cell_type": "code",
      "metadata": {
        "colab": {
          "base_uri": "https://localhost:8080/"
        },
        "id": "hlANU_yPGmp7",
        "outputId": "d2332efa-e1d8-4f80-b9ba-0a3e535b7005"
      },
      "source": [
        "rs_slc = ((dataset['SLC'][len(dataset) - 1] - dataset['SLC'][0]) / dataset['SLC'][0]) * 100\n",
        "print('A Taxa de Retorno desta Ação em um período de {} a {} é de: {:.2f}'.format(data_inicial, data_final, rs_slc))"
      ],
      "execution_count": 75,
      "outputs": [
        {
          "output_type": "stream",
          "name": "stdout",
          "text": [
            "A Taxa de Retorno desta Ação em um período de 2015-01-02 a 2021-09-21 é de: 516.18\n"
          ]
        }
      ]
    },
    {
      "cell_type": "code",
      "metadata": {
        "colab": {
          "base_uri": "https://localhost:8080/"
        },
        "id": "Qex2YbDFGmoa",
        "outputId": "16f03574-a6bf-48b4-e716-1059da953411"
      },
      "source": [
        "rs_sul = ((dataset['SUL'][len(dataset) - 1] - dataset['SUL'][0]) / dataset['SUL'][0]) * 100\n",
        "print('A Taxa de Retorno desta Ação em um período de {} a {} é de: {:.2f}'.format(data_inicial, data_final, rs_sul))"
      ],
      "execution_count": 77,
      "outputs": [
        {
          "output_type": "stream",
          "name": "stdout",
          "text": [
            "A Taxa de Retorno desta Ação em um período de 2015-01-02 a 2021-09-21 é de: 177.81\n"
          ]
        }
      ]
    },
    {
      "cell_type": "code",
      "metadata": {
        "colab": {
          "base_uri": "https://localhost:8080/"
        },
        "id": "oRRgwUK6SPKN",
        "outputId": "76687940-ae90-4565-ad08-4f74fb460657"
      },
      "source": [
        "rs_oi = ((dataset['OI'][len(dataset) - 1] - dataset['OI'][0]) / dataset['OI'][0]) * 100\n",
        "print('A Taxa de Retorno desta Ação em um período de {} a {} é de: {:.2f}'.format(data_inicial, data_final, rs_oi))"
      ],
      "execution_count": 78,
      "outputs": [
        {
          "output_type": "stream",
          "name": "stdout",
          "text": [
            "A Taxa de Retorno desta Ação em um período de 2015-01-02 a 2021-09-21 é de: -85.93\n"
          ]
        }
      ]
    },
    {
      "cell_type": "code",
      "metadata": {
        "colab": {
          "base_uri": "https://localhost:8080/"
        },
        "id": "k5D3DnI8SEUl",
        "outputId": "30fed631-ac5a-4726-edfb-dddadcd8a832"
      },
      "source": [
        "rs_marisa = ((dataset['MARISA'][len(dataset) - 1] - dataset['MARISA'][0]) / dataset['MARISA'][0]) * 100\n",
        "print('A Taxa de Retorno desta Ação em um período de {} a {} é de: {:.2f}'.format(data_inicial, data_final, rs_marisa))"
      ],
      "execution_count": 80,
      "outputs": [
        {
          "output_type": "stream",
          "name": "stdout",
          "text": [
            "A Taxa de Retorno desta Ação em um período de 2015-01-02 a 2021-09-21 é de: -57.62\n"
          ]
        }
      ]
    }
  ]
}